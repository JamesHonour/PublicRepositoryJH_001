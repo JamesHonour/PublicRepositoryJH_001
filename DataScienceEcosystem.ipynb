{
 "cells": [
  {
   "cell_type": "markdown",
   "id": "78ccd498-73d3-45e1-bb0c-0cf0192dbaa2",
   "metadata": {},
   "source": [
    "# Data Science Tools and Ecosystem"
   ]
  },
  {
   "cell_type": "markdown",
   "id": "6b38f9d1-be06-4b32-a288-7c355c22bd46",
   "metadata": {},
   "source": [
    "## Author\n",
    "James Honour"
   ]
  },
  {
   "cell_type": "markdown",
   "id": "3ca6ed81-2579-4e2a-80de-244c246d80b9",
   "metadata": {},
   "source": [
    "## In this notebook, Data Science Tools and Ecosystem are summarized."
   ]
  },
  {
   "cell_type": "markdown",
   "id": "25eda82d-9682-46c7-bd4c-054c9e6fcce5",
   "metadata": {},
   "source": [
    "**Objectives:**\n",
    "- List popular languages for Data Science.\n",
    "- List some of the commonly used libraries used by Data Scientists\n",
    "- Creating a table listing Data Science tools\n",
    "- Create a code cell to multiply and add numbers"
   ]
  },
  {
   "cell_type": "markdown",
   "id": "9c81b27f-95a9-45dd-ad63-90ff35a4c83e",
   "metadata": {},
   "source": [
    "### Some of the popular languages that Data Scientists use are:\n",
    "1) Python\n",
    "2) SQL\n",
    "3) R\n",
    "4) VBA\n",
    "5) Julia\n",
    "6) JavaScript\n",
    "7) Java"
   ]
  },
  {
   "cell_type": "markdown",
   "id": "4f46b1c4-c7c1-4357-bb94-6b9043989d18",
   "metadata": {},
   "source": [
    "### Some of the commonly used libraries used by Data Scientists include:\n",
    "1) NumPy\n",
    "2) Matplotlib\n",
    "3) Pandas\n",
    "4) SciPy\n",
    "5) PyTorch\n",
    "6) Seaborn"
   ]
  },
  {
   "cell_type": "markdown",
   "id": "c4ed5391-f539-426e-acf2-6d0269e6e6e3",
   "metadata": {},
   "source": [
    "| Data Science Tools |\n",
    "|:-------------------|\n",
    "|R Studio|\n",
    "|Jupyter Notebook|\n",
    "|VS Code|\n",
    "\n"
   ]
  },
  {
   "cell_type": "markdown",
   "id": "387a92bc-5c85-44d3-a6dd-fd316c4b1982",
   "metadata": {},
   "source": [
    "### Below are a few examples of evaluating arithmetic expressions in Python"
   ]
  },
  {
   "cell_type": "code",
   "execution_count": null,
   "id": "ff31979e-298f-4afb-a4ec-f517794893aa",
   "metadata": {},
   "outputs": [],
   "source": [
    "# This a simple arithmetic expression to mutiply then add integers.\n",
    "\n",
    "(3*4)+5"
   ]
  },
  {
   "cell_type": "code",
   "execution_count": null,
   "id": "a044c483-847a-4bff-b2e3-fd0f2db3cd3e",
   "metadata": {},
   "outputs": [],
   "source": [
    "# This will convert 200 minutes to hours by diving by 60.\n",
    "\n",
    "200/60"
   ]
  }
 ],
 "metadata": {
  "kernelspec": {
   "display_name": "Python 3 (ipykernel)",
   "language": "python",
   "name": "python3"
  },
  "language_info": {
   "codemirror_mode": {
    "name": "ipython",
    "version": 3
   },
   "file_extension": ".py",
   "mimetype": "text/x-python",
   "name": "python",
   "nbconvert_exporter": "python",
   "pygments_lexer": "ipython3",
   "version": "3.11.9"
  }
 },
 "nbformat": 4,
 "nbformat_minor": 5
}
